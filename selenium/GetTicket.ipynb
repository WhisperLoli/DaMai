{
 "cells": [
  {
   "cell_type": "code",
   "execution_count": 1,
   "metadata": {},
   "outputs": [],
   "source": [
    "from selenium import webdriver\n",
    "from selenium.webdriver.common.action_chains import ActionChains\n",
    "from selenium.webdriver import ChromeOptions\n",
    "import time\n",
    "import re\n",
    "import configparser\n",
    "import os\n",
    "import sys"
   ]
  },
  {
   "cell_type": "code",
   "execution_count": 22,
   "metadata": {},
   "outputs": [],
   "source": [
    "sys.setrecursionlimit(10000)\n",
    "cf = configparser.ConfigParser()\n",
    "path = os.path.abspath('./conf.properties')\n",
    "cf.read(path)\n",
    "username = cf.get('user', 'username')\n",
    "password = cf.get('user', 'password')\n",
    "price = cf.get(\"ticket\", \"price\")\n",
    "start_time = cf.get(\"ticket\", \"start_time\")\n",
    "total = cf.get(\"ticket\", \"total\")\n",
    "star = cf.get(\"ticket\", \"star\")\n",
    "address = cf.get(\"ticket\", \"address\")\n",
    "auto_upgrade=bool(cf.get(\"ticket\", \"auto_upgrade\"))"
   ]
  },
  {
   "cell_type": "code",
   "execution_count": 3,
   "metadata": {},
   "outputs": [],
   "source": [
    "option = ChromeOptions()\n",
    "option.add_argument('user-agent=\"Mozilla/5.0 (Macintosh; Intel Mac OS X 10_14_4) AppleWebKit/537.36 (KHTML, like Gecko) Chrome/74.0.3729.169 Safari/537.36\"')\n",
    "option.add_experimental_option('excludeSwitches', ['enable-automation'])\n",
    "browser=webdriver.Chrome(executable_path=\"/Applications/Google Chrome.app/Contents/MacOS/chromedriver\", options=option)\n",
    "browser.get(\"https://www.damai.cn/?utm_source=search&utm_medium=baidupc&utm_content=pmarket_yhcpyyb&utm_campaign=alink_bdsem_shh_shouye_8000\")\n",
    "browser.maximize_window()\n",
    "browser.implicitly_wait(5)"
   ]
  },
  {
   "cell_type": "code",
   "execution_count": 4,
   "metadata": {},
   "outputs": [],
   "source": [
    "def login():\n",
    "    \"\"\"登录\"\"\"\n",
    "    \"\"\"大麦会识别出非人工操作，从输入用户名密码开始到验证码结束人工操作\"\"\"\n",
    "    #点击登录按钮,跳转到登录界面\n",
    "    if browser.title==\"大麦网-全球演出赛事官方购票平台-100%正品、先付先抢、在线选座！\":\n",
    "        browser.find_element_by_css_selector(\".login-user\").click()\n",
    "        #进入登录的iframe，坑，竟然在一个大页面中有一个iframe\n",
    "        browser.switch_to_frame(\"alibaba-login-box\")\n",
    "    browser.find_element_by_id(\"fm-login-id\").clear()\n",
    "    #输入用户名，需要替换成自己的用户名\n",
    "    browser.find_element_by_id(\"fm-login-id\").send_keys(username)\n",
    "    browser.find_element_by_id(\"fm-login-password\").clear()\n",
    "    #输入密码\n",
    "    browser.find_element_by_id(\"fm-login-password\").send_keys(password)\n",
    "    #判断是否需要滑动解锁验证码\n",
    "    if browser.find_element_by_id(\"nocaptcha-password\").is_displayed():\n",
    "        #滑动验证码,获取平移距离,移动解锁\n",
    "        start=browser.find_element_by_id(\"nc_1_n1z\")\n",
    "        inner_size=start.size[\"width\"]\n",
    "        outer_size=browser.find_element_by_class_name(\"nc-lang-cnt\").size[\"width\"]\n",
    "        move_size=outer_size-inner_size\n",
    "        ActionChains(browser).drag_and_drop_by_offset(start, move_size, 0).perform()\n",
    "        time.sleep(2)#滑完了之后稍等下，让系统判断完毕\n",
    "\n",
    "    browser.find_element_by_css_selector(\".password-login\").click()"
   ]
  },
  {
   "cell_type": "code",
   "execution_count": 6,
   "metadata": {},
   "outputs": [
    {
     "name": "stderr",
     "output_type": "stream",
     "text": [
      "/Users/admin/Software/anaconda3/lib/python3.6/site-packages/ipykernel_launcher.py:8: DeprecationWarning: use driver.switch_to.frame instead\n",
      "  \n"
     ]
    }
   ],
   "source": [
    "# perl -pi -e 's/cdc_/dog_/g' /Applications/chromedriver\n",
    "# 登录\n",
    "login()"
   ]
  },
  {
   "cell_type": "code",
   "execution_count": 7,
   "metadata": {},
   "outputs": [],
   "source": [
    "def search(performer, city=None):\n",
    "    \"\"\"登录后首页搜索，可以选择城市\"\"\"\n",
    "    if city != None:\n",
    "        current_location = browser.find_element_by_class_name(\"city-location\")\n",
    "        ActionChains(browser).move_to_element(current_location).perform()\n",
    "        cities = browser.find_elements_by_class_name(\"name-city\")\n",
    "        for city in cities:\n",
    "            if city.text == city:\n",
    "                city.click()\n",
    "                break \n",
    "    browser.find_element_by_class_name(\"input-search\").clear()\n",
    "    browser.find_element_by_class_name(\"input-search\").send_keys(performer)\n",
    "    browser.find_element_by_class_name(\"btn-search\").click()"
   ]
  },
  {
   "cell_type": "code",
   "execution_count": 8,
   "metadata": {},
   "outputs": [],
   "source": [
    "# 搜索\n",
    "search(star, address)"
   ]
  },
  {
   "cell_type": "code",
   "execution_count": 9,
   "metadata": {},
   "outputs": [],
   "source": [
    "def buy_detail(city):\n",
    "    \"\"\"进入购买详情页\"\"\"\n",
    "    browser.find_element_by_partial_link_text(city).click()"
   ]
  },
  {
   "cell_type": "code",
   "execution_count": 10,
   "metadata": {},
   "outputs": [],
   "source": [
    "# 跳转指定城市的购买界面\n",
    "buy_detail(address)"
   ]
  },
  {
   "cell_type": "code",
   "execution_count": 11,
   "metadata": {},
   "outputs": [],
   "source": [
    "# 切换窗口\n",
    "def switch_window():\n",
    "    for window in browser.window_handles:\n",
    "        if window != browser.current_window_handle:\n",
    "            buy_page_window = window\n",
    "            browser.switch_to_window(window)\n",
    "            break"
   ]
  },
  {
   "cell_type": "code",
   "execution_count": 12,
   "metadata": {},
   "outputs": [
    {
     "name": "stderr",
     "output_type": "stream",
     "text": [
      "/Users/admin/Software/anaconda3/lib/python3.6/site-packages/ipykernel_launcher.py:6: DeprecationWarning: use driver.switch_to.window instead\n",
      "  \n"
     ]
    }
   ],
   "source": [
    "switch_window()"
   ]
  },
  {
   "cell_type": "code",
   "execution_count": 13,
   "metadata": {},
   "outputs": [],
   "source": [
    "def buy_now(total):\n",
    "    \"\"\"total为购买票的数目\"\"\"\n",
    "    # 判断限购数量\n",
    "    try:\n",
    "        limit = re.search(\"\\d\",browser.find_element_by_class_name(\"number_right_limit\").text).group(0)\n",
    "        if int(total) > int(limit):\n",
    "            total=limit\n",
    "        browser.find_element_by_class_name(\"cafe-c-input-number-input\").clear()\n",
    "        browser.find_element_by_class_name(\"cafe-c-input-number-input\").send_keys(total)\n",
    "        browser.find_element_by_class_name(\"buybtn\").click()\n",
    "    except:\n",
    "        print(\"获取限购数量失败,直接使用输入票数【\"+str(total)+\"】\")\n",
    "        browser.find_element_by_class_name(\"cafe-c-input-number-input\").clear()\n",
    "        browser.find_element_by_class_name(\"cafe-c-input-number-input\").send_keys(int(total))\n",
    "        browser.find_element_by_class_name(\"buybtn\").click()"
   ]
  },
  {
   "cell_type": "code",
   "execution_count": 14,
   "metadata": {},
   "outputs": [],
   "source": [
    "def choose_time_and_price(price, start_time_sort_num):\n",
    "    \"\"\"选择价位与时间\"\"\"\n",
    "    \"\"\"start_time_sort_num时间顺序，页面上的排序，开始第一个数是1\"\"\"\n",
    "    \n",
    "    all_items = browser.find_elements_by_class_name(\"select_right_list_item\")\n",
    "    sorts=[]\n",
    "    price_levels=[]\n",
    "    for item in all_items:\n",
    "        if item.get_attribute(\"class\").find(\"sku_item\") == -1:\n",
    "            sorts.append(item)\n",
    "        else:\n",
    "            price_levels.append(item)\n",
    "         \n",
    "    # 选择时间\n",
    "    #print(\"当前时间场次总共有【\"+str(len(sorts))+\"】档\")\n",
    "    if len(sorts) < int(start_time_sort_num):\n",
    "        print(\"输入抢票日期信息错误,将被设置成第一场演唱会的票\")\n",
    "        start_time_sort_num = 1 \n",
    "    sorts[int(start_time_sort_num)-1].click()\n",
    "                \n",
    "    # 选择价位\n",
    "    #print(\"当前价位总共有【\"+str(len(price_levels))+\"】档\")\n",
    "    if len(price_levels) < int(price):\n",
    "        print(\"输入价位信息错误，超过系统的价位档,将被设置成最低档价位的票\")\n",
    "        price = 1 \n",
    "    price_levels[int(price)-1].click()\n",
    "    \n",
    "    #返回是否可以购买\n",
    "    return browser.find_element_by_class_name(\"buybtn\").text"
   ]
  },
  {
   "cell_type": "code",
   "execution_count": 15,
   "metadata": {},
   "outputs": [],
   "source": [
    "count=0\n",
    "def refresh_and_buy(price, total, start_time_sort_num):\n",
    "    \"\"\"判断是否开售，未开售就刷新浏览器\"\"\"\n",
    "    \"\"\"price：价格档位\"\"\"\n",
    "    \"\"\"total：选择抢票数目\"\"\"\n",
    "    # 是否可以购票\n",
    "    txt = choose_time_and_price(price, start_time_sort_num)\n",
    "    while txt==\"即将开抢\":\n",
    "        browser.refresh()\n",
    "        txt = choose_time_and_price(price, start_time_sort_num)\n",
    "    if txt == \"提交缺货登记\":\n",
    "        print(\"该档次票已被抢完\")\n",
    "        if auto_upgrade:\n",
    "            global count\n",
    "            print(\"自动提升票价档次\")\n",
    "            price = str(int(price) + 1)\n",
    "            refresh_and_buy(price, total, start_time_sort_num)\n",
    "            count+=1\n",
    "        #如果启用自动升档门票价格的话，抢到票后也需要退出当前程序片段\n",
    "    if count == 0:\n",
    "        buy_now(total)\n",
    "    \n",
    "    # 点击立即购买出错跳到页面，需要添加判断http://err.taobao.com/error2.html\n",
    "    # 亲，同一时间下单人数过多，建议您稍后再试，会卡住\n",
    "    while browser.current_url == \"http://err.taobao.com/error2.html\" or browser.page_source.find(\"next-row error-msg\") > 0:\n",
    "        browser.back()\n",
    "        count=0\n",
    "        browser.refresh()\n",
    "        refresh_and_buy(price, total, start_time_sort_num)"
   ]
  },
  {
   "cell_type": "code",
   "execution_count": 19,
   "metadata": {},
   "outputs": [],
   "source": [
    "def submit_order(total):\n",
    "    \"\"\"提交订单\"\"\"\n",
    "    \"\"\"判断是否有限制一个身份证只能买一张票\"\"\"\n",
    "    if browser.find_element_by_class_name(\"ticket-buyer-title\").text.find(\"1\") > 0:\n",
    "        #没有该限制\n",
    "        browser.find_element_by_class_name(\"next-checkbox-label\").click()\n",
    "    else:\n",
    "        #选择多位观看人\n",
    "        for user in browser.find_elements_by_class_name(\"next-checkbox-label\")[0:int(total)]:\n",
    "            user.click()\n",
    "      \n",
    "    browser.find_elements_by_class_name(\"next-btn-medium\")[2].click()\n",
    "    "
   ]
  },
  {
   "cell_type": "code",
   "execution_count": 24,
   "metadata": {},
   "outputs": [],
   "source": [
    "curr_url=browser.current_url"
   ]
  },
  {
   "cell_type": "code",
   "execution_count": 27,
   "metadata": {},
   "outputs": [
    {
     "name": "stdout",
     "output_type": "stream",
     "text": [
      "该档次票已被抢完\n",
      "自动提升票价档次\n",
      "该档次票已被抢完\n",
      "自动提升票价档次\n"
     ]
    },
    {
     "ename": "StaleElementReferenceException",
     "evalue": "Message: stale element reference: element is not attached to the page document\n  (Session info: chrome=78.0.3904.108)\n",
     "output_type": "error",
     "traceback": [
      "\u001b[0;31m---------------------------------------------------------------------------\u001b[0m",
      "\u001b[0;31mStaleElementReferenceException\u001b[0m            Traceback (most recent call last)",
      "\u001b[0;32m<ipython-input-27-a8560cbe8745>\u001b[0m in \u001b[0;36m<module>\u001b[0;34m\u001b[0m\n\u001b[1;32m      3\u001b[0m     \u001b[0;32mglobal\u001b[0m \u001b[0mcount\u001b[0m\u001b[0;34m\u001b[0m\u001b[0;34m\u001b[0m\u001b[0m\n\u001b[1;32m      4\u001b[0m     \u001b[0mcount\u001b[0m\u001b[0;34m=\u001b[0m\u001b[0;36m0\u001b[0m\u001b[0;34m\u001b[0m\u001b[0;34m\u001b[0m\u001b[0m\n\u001b[0;32m----> 5\u001b[0;31m     \u001b[0mrefresh_and_buy\u001b[0m\u001b[0;34m(\u001b[0m\u001b[0mprice\u001b[0m\u001b[0;34m=\u001b[0m\u001b[0mprice\u001b[0m\u001b[0;34m,\u001b[0m\u001b[0mtotal\u001b[0m\u001b[0;34m=\u001b[0m\u001b[0mtotal\u001b[0m\u001b[0;34m,\u001b[0m\u001b[0mstart_time_sort_num\u001b[0m\u001b[0;34m=\u001b[0m\u001b[0mstart_time\u001b[0m\u001b[0;34m)\u001b[0m\u001b[0;34m\u001b[0m\u001b[0;34m\u001b[0m\u001b[0m\n\u001b[0m\u001b[1;32m      6\u001b[0m     \u001b[0;31m# 页面中总共有3个“确认”，如果出现异常跳出其他按钮，“确认”会大于3个\u001b[0m\u001b[0;34m\u001b[0m\u001b[0;34m\u001b[0m\u001b[0;34m\u001b[0m\u001b[0m\n\u001b[1;32m      7\u001b[0m     \u001b[0;32mif\u001b[0m \u001b[0mbrowser\u001b[0m\u001b[0;34m.\u001b[0m\u001b[0mpage_source\u001b[0m\u001b[0;34m.\u001b[0m\u001b[0mcount\u001b[0m\u001b[0;34m(\u001b[0m\u001b[0;34m\"确认\"\u001b[0m\u001b[0;34m)\u001b[0m \u001b[0;34m>\u001b[0m \u001b[0;36m3\u001b[0m\u001b[0;34m:\u001b[0m\u001b[0;34m\u001b[0m\u001b[0;34m\u001b[0m\u001b[0m\n",
      "\u001b[0;32m<ipython-input-15-03548f77d26e>\u001b[0m in \u001b[0;36mrefresh_and_buy\u001b[0;34m(price, total, start_time_sort_num)\u001b[0m\n\u001b[1;32m      5\u001b[0m     \u001b[0;34m\"\"\"total：选择抢票数目\"\"\"\u001b[0m\u001b[0;34m\u001b[0m\u001b[0;34m\u001b[0m\u001b[0m\n\u001b[1;32m      6\u001b[0m     \u001b[0;31m# 是否可以购票\u001b[0m\u001b[0;34m\u001b[0m\u001b[0;34m\u001b[0m\u001b[0;34m\u001b[0m\u001b[0m\n\u001b[0;32m----> 7\u001b[0;31m     \u001b[0mtxt\u001b[0m \u001b[0;34m=\u001b[0m \u001b[0mchoose_time_and_price\u001b[0m\u001b[0;34m(\u001b[0m\u001b[0mprice\u001b[0m\u001b[0;34m,\u001b[0m \u001b[0mstart_time_sort_num\u001b[0m\u001b[0;34m)\u001b[0m\u001b[0;34m\u001b[0m\u001b[0;34m\u001b[0m\u001b[0m\n\u001b[0m\u001b[1;32m      8\u001b[0m     \u001b[0;32mwhile\u001b[0m \u001b[0mtxt\u001b[0m\u001b[0;34m==\u001b[0m\u001b[0;34m\"即将开抢\"\u001b[0m\u001b[0;34m:\u001b[0m\u001b[0;34m\u001b[0m\u001b[0;34m\u001b[0m\u001b[0m\n\u001b[1;32m      9\u001b[0m         \u001b[0mbrowser\u001b[0m\u001b[0;34m.\u001b[0m\u001b[0mrefresh\u001b[0m\u001b[0;34m(\u001b[0m\u001b[0;34m)\u001b[0m\u001b[0;34m\u001b[0m\u001b[0;34m\u001b[0m\u001b[0m\n",
      "\u001b[0;32m<ipython-input-14-df137ea31d51>\u001b[0m in \u001b[0;36mchoose_time_and_price\u001b[0;34m(price, start_time_sort_num)\u001b[0m\n\u001b[1;32m     24\u001b[0m         \u001b[0mprint\u001b[0m\u001b[0;34m(\u001b[0m\u001b[0;34m\"输入价位信息错误，超过系统的价位档,将被设置成最低档价位的票\"\u001b[0m\u001b[0;34m)\u001b[0m\u001b[0;34m\u001b[0m\u001b[0;34m\u001b[0m\u001b[0m\n\u001b[1;32m     25\u001b[0m         \u001b[0mprice\u001b[0m \u001b[0;34m=\u001b[0m \u001b[0;36m1\u001b[0m\u001b[0;34m\u001b[0m\u001b[0;34m\u001b[0m\u001b[0m\n\u001b[0;32m---> 26\u001b[0;31m     \u001b[0mprice_levels\u001b[0m\u001b[0;34m[\u001b[0m\u001b[0mint\u001b[0m\u001b[0;34m(\u001b[0m\u001b[0mprice\u001b[0m\u001b[0;34m)\u001b[0m\u001b[0;34m-\u001b[0m\u001b[0;36m1\u001b[0m\u001b[0;34m]\u001b[0m\u001b[0;34m.\u001b[0m\u001b[0mclick\u001b[0m\u001b[0;34m(\u001b[0m\u001b[0;34m)\u001b[0m\u001b[0;34m\u001b[0m\u001b[0;34m\u001b[0m\u001b[0m\n\u001b[0m\u001b[1;32m     27\u001b[0m \u001b[0;34m\u001b[0m\u001b[0m\n\u001b[1;32m     28\u001b[0m     \u001b[0;31m#返回是否可以购买\u001b[0m\u001b[0;34m\u001b[0m\u001b[0;34m\u001b[0m\u001b[0;34m\u001b[0m\u001b[0m\n",
      "\u001b[0;32m~/Software/anaconda3/lib/python3.6/site-packages/selenium/webdriver/remote/webelement.py\u001b[0m in \u001b[0;36mclick\u001b[0;34m(self)\u001b[0m\n\u001b[1;32m     78\u001b[0m     \u001b[0;32mdef\u001b[0m \u001b[0mclick\u001b[0m\u001b[0;34m(\u001b[0m\u001b[0mself\u001b[0m\u001b[0;34m)\u001b[0m\u001b[0;34m:\u001b[0m\u001b[0;34m\u001b[0m\u001b[0;34m\u001b[0m\u001b[0m\n\u001b[1;32m     79\u001b[0m         \u001b[0;34m\"\"\"Clicks the element.\"\"\"\u001b[0m\u001b[0;34m\u001b[0m\u001b[0;34m\u001b[0m\u001b[0m\n\u001b[0;32m---> 80\u001b[0;31m         \u001b[0mself\u001b[0m\u001b[0;34m.\u001b[0m\u001b[0m_execute\u001b[0m\u001b[0;34m(\u001b[0m\u001b[0mCommand\u001b[0m\u001b[0;34m.\u001b[0m\u001b[0mCLICK_ELEMENT\u001b[0m\u001b[0;34m)\u001b[0m\u001b[0;34m\u001b[0m\u001b[0;34m\u001b[0m\u001b[0m\n\u001b[0m\u001b[1;32m     81\u001b[0m \u001b[0;34m\u001b[0m\u001b[0m\n\u001b[1;32m     82\u001b[0m     \u001b[0;32mdef\u001b[0m \u001b[0msubmit\u001b[0m\u001b[0;34m(\u001b[0m\u001b[0mself\u001b[0m\u001b[0;34m)\u001b[0m\u001b[0;34m:\u001b[0m\u001b[0;34m\u001b[0m\u001b[0;34m\u001b[0m\u001b[0m\n",
      "\u001b[0;32m~/Software/anaconda3/lib/python3.6/site-packages/selenium/webdriver/remote/webelement.py\u001b[0m in \u001b[0;36m_execute\u001b[0;34m(self, command, params)\u001b[0m\n\u001b[1;32m    631\u001b[0m             \u001b[0mparams\u001b[0m \u001b[0;34m=\u001b[0m \u001b[0;34m{\u001b[0m\u001b[0;34m}\u001b[0m\u001b[0;34m\u001b[0m\u001b[0;34m\u001b[0m\u001b[0m\n\u001b[1;32m    632\u001b[0m         \u001b[0mparams\u001b[0m\u001b[0;34m[\u001b[0m\u001b[0;34m'id'\u001b[0m\u001b[0;34m]\u001b[0m \u001b[0;34m=\u001b[0m \u001b[0mself\u001b[0m\u001b[0;34m.\u001b[0m\u001b[0m_id\u001b[0m\u001b[0;34m\u001b[0m\u001b[0;34m\u001b[0m\u001b[0m\n\u001b[0;32m--> 633\u001b[0;31m         \u001b[0;32mreturn\u001b[0m \u001b[0mself\u001b[0m\u001b[0;34m.\u001b[0m\u001b[0m_parent\u001b[0m\u001b[0;34m.\u001b[0m\u001b[0mexecute\u001b[0m\u001b[0;34m(\u001b[0m\u001b[0mcommand\u001b[0m\u001b[0;34m,\u001b[0m \u001b[0mparams\u001b[0m\u001b[0;34m)\u001b[0m\u001b[0;34m\u001b[0m\u001b[0;34m\u001b[0m\u001b[0m\n\u001b[0m\u001b[1;32m    634\u001b[0m \u001b[0;34m\u001b[0m\u001b[0m\n\u001b[1;32m    635\u001b[0m     \u001b[0;32mdef\u001b[0m \u001b[0mfind_element\u001b[0m\u001b[0;34m(\u001b[0m\u001b[0mself\u001b[0m\u001b[0;34m,\u001b[0m \u001b[0mby\u001b[0m\u001b[0;34m=\u001b[0m\u001b[0mBy\u001b[0m\u001b[0;34m.\u001b[0m\u001b[0mID\u001b[0m\u001b[0;34m,\u001b[0m \u001b[0mvalue\u001b[0m\u001b[0;34m=\u001b[0m\u001b[0;32mNone\u001b[0m\u001b[0;34m)\u001b[0m\u001b[0;34m:\u001b[0m\u001b[0;34m\u001b[0m\u001b[0;34m\u001b[0m\u001b[0m\n",
      "\u001b[0;32m~/Software/anaconda3/lib/python3.6/site-packages/selenium/webdriver/remote/webdriver.py\u001b[0m in \u001b[0;36mexecute\u001b[0;34m(self, driver_command, params)\u001b[0m\n\u001b[1;32m    319\u001b[0m         \u001b[0mresponse\u001b[0m \u001b[0;34m=\u001b[0m \u001b[0mself\u001b[0m\u001b[0;34m.\u001b[0m\u001b[0mcommand_executor\u001b[0m\u001b[0;34m.\u001b[0m\u001b[0mexecute\u001b[0m\u001b[0;34m(\u001b[0m\u001b[0mdriver_command\u001b[0m\u001b[0;34m,\u001b[0m \u001b[0mparams\u001b[0m\u001b[0;34m)\u001b[0m\u001b[0;34m\u001b[0m\u001b[0;34m\u001b[0m\u001b[0m\n\u001b[1;32m    320\u001b[0m         \u001b[0;32mif\u001b[0m \u001b[0mresponse\u001b[0m\u001b[0;34m:\u001b[0m\u001b[0;34m\u001b[0m\u001b[0;34m\u001b[0m\u001b[0m\n\u001b[0;32m--> 321\u001b[0;31m             \u001b[0mself\u001b[0m\u001b[0;34m.\u001b[0m\u001b[0merror_handler\u001b[0m\u001b[0;34m.\u001b[0m\u001b[0mcheck_response\u001b[0m\u001b[0;34m(\u001b[0m\u001b[0mresponse\u001b[0m\u001b[0;34m)\u001b[0m\u001b[0;34m\u001b[0m\u001b[0;34m\u001b[0m\u001b[0m\n\u001b[0m\u001b[1;32m    322\u001b[0m             response['value'] = self._unwrap_value(\n\u001b[1;32m    323\u001b[0m                 response.get('value', None))\n",
      "\u001b[0;32m~/Software/anaconda3/lib/python3.6/site-packages/selenium/webdriver/remote/errorhandler.py\u001b[0m in \u001b[0;36mcheck_response\u001b[0;34m(self, response)\u001b[0m\n\u001b[1;32m    240\u001b[0m                 \u001b[0malert_text\u001b[0m \u001b[0;34m=\u001b[0m \u001b[0mvalue\u001b[0m\u001b[0;34m[\u001b[0m\u001b[0;34m'alert'\u001b[0m\u001b[0;34m]\u001b[0m\u001b[0;34m.\u001b[0m\u001b[0mget\u001b[0m\u001b[0;34m(\u001b[0m\u001b[0;34m'text'\u001b[0m\u001b[0;34m)\u001b[0m\u001b[0;34m\u001b[0m\u001b[0;34m\u001b[0m\u001b[0m\n\u001b[1;32m    241\u001b[0m             \u001b[0;32mraise\u001b[0m \u001b[0mexception_class\u001b[0m\u001b[0;34m(\u001b[0m\u001b[0mmessage\u001b[0m\u001b[0;34m,\u001b[0m \u001b[0mscreen\u001b[0m\u001b[0;34m,\u001b[0m \u001b[0mstacktrace\u001b[0m\u001b[0;34m,\u001b[0m \u001b[0malert_text\u001b[0m\u001b[0;34m)\u001b[0m\u001b[0;34m\u001b[0m\u001b[0;34m\u001b[0m\u001b[0m\n\u001b[0;32m--> 242\u001b[0;31m         \u001b[0;32mraise\u001b[0m \u001b[0mexception_class\u001b[0m\u001b[0;34m(\u001b[0m\u001b[0mmessage\u001b[0m\u001b[0;34m,\u001b[0m \u001b[0mscreen\u001b[0m\u001b[0;34m,\u001b[0m \u001b[0mstacktrace\u001b[0m\u001b[0;34m)\u001b[0m\u001b[0;34m\u001b[0m\u001b[0;34m\u001b[0m\u001b[0m\n\u001b[0m\u001b[1;32m    243\u001b[0m \u001b[0;34m\u001b[0m\u001b[0m\n\u001b[1;32m    244\u001b[0m     \u001b[0;32mdef\u001b[0m \u001b[0m_value_or_default\u001b[0m\u001b[0;34m(\u001b[0m\u001b[0mself\u001b[0m\u001b[0;34m,\u001b[0m \u001b[0mobj\u001b[0m\u001b[0;34m,\u001b[0m \u001b[0mkey\u001b[0m\u001b[0;34m,\u001b[0m \u001b[0mdefault\u001b[0m\u001b[0;34m)\u001b[0m\u001b[0;34m:\u001b[0m\u001b[0;34m\u001b[0m\u001b[0;34m\u001b[0m\u001b[0m\n",
      "\u001b[0;31mStaleElementReferenceException\u001b[0m: Message: stale element reference: element is not attached to the page document\n  (Session info: chrome=78.0.3904.108)\n"
     ]
    }
   ],
   "source": [
    "while browser.current_url == curr_url:\n",
    "    #刷新及购买\n",
    "    global count\n",
    "    count=0\n",
    "    refresh_and_buy(price=price,total=total,start_time_sort_num=start_time)\n",
    "    # 页面中总共有3个“确认”，如果出现异常跳出其他按钮，“确认”会大于3个\n",
    "    if browser.page_source.count(\"确认\") > 3:\n",
    "        browser.find_element_by_id(\"dialog-footer-2\").find_element_by_tag_name(\"button\").click()\n",
    "        curr_url=browser.current_url\n",
    "    else:\n",
    "        # 提交订单\n",
    "        \n",
    "        submit_order(total)\n",
    "        #如果出现 “确认” div弹窗，则退回上一层\n",
    "        time.sleep(1.8)\n",
    "        if browser.page_source.count(\"确认\") > 3:\n",
    "            txt = browser.find_element_by_class_name(\"next-feedback-title\").text\n",
    "            while txt.find(\"同一时间下单人数过多\") > 0:\n",
    "                browser.refresh()\n",
    "                if browser.page_source.count(\"确认\") > 3:\n",
    "                    browser.find_element_by_id(\"dialog-footer-2\").find_element_by_tag_name(\"button\").click()\n",
    "                    curr_url=browser.current_url\n",
    "                else:\n",
    "                    submit_order(total)\n",
    "                    time.sleep(1.8)\n",
    "                    if browser.page_source.count(\"确认\") > 3:\n",
    "                        txt=browser.find_element_by_class_name(\"next-feedback-title\").text\n",
    "            browser.find_element_by_id(\"dialog-footer-2\").find_element_by_tag_name(\"button\").click()\n",
    "            curr_url=browser.current_url"
   ]
  },
  {
   "cell_type": "code",
   "execution_count": null,
   "metadata": {},
   "outputs": [],
   "source": []
  }
 ],
 "metadata": {
  "kernelspec": {
   "display_name": "Python 3",
   "language": "python",
   "name": "python3"
  },
  "language_info": {
   "codemirror_mode": {
    "name": "ipython",
    "version": 3
   },
   "file_extension": ".py",
   "mimetype": "text/x-python",
   "name": "python",
   "nbconvert_exporter": "python",
   "pygments_lexer": "ipython3",
   "version": "3.6.8"
  }
 },
 "nbformat": 4,
 "nbformat_minor": 2
}
