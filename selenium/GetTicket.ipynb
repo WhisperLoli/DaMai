{
 "cells": [
  {
   "cell_type": "code",
   "execution_count": 9,
   "metadata": {},
   "outputs": [],
   "source": [
    "from selenium import webdriver\n",
    "from selenium.webdriver.common.action_chains import ActionChains\n",
    "from selenium.webdriver import ChromeOptions\n",
    "import time"
   ]
  },
  {
   "cell_type": "code",
   "execution_count": 4,
   "metadata": {},
   "outputs": [],
   "source": [
    "option = ChromeOptions()\n",
    "option.add_experimental_option('excludeSwitches', ['enable-automation'])\n",
    "browser=webdriver.Chrome(executable_path=\"/Applications/Google Chrome.app/Contents/MacOS/chromedriver\", options=option)"
   ]
  },
  {
   "cell_type": "code",
   "execution_count": 5,
   "metadata": {},
   "outputs": [],
   "source": [
    "browser.get(\"https://www.damai.cn/?utm_source=search&utm_medium=baidupc&utm_content=pmarket_yhcpyyb&utm_campaign=alink_bdsem_shh_shouye_8000\")"
   ]
  },
  {
   "cell_type": "code",
   "execution_count": 6,
   "metadata": {},
   "outputs": [],
   "source": [
    "def is_element_exist(query_type, value):\n",
    "    \"\"\"根据查询类型判断页面中是否存在相应的元素\"\"\"\n",
    "    try:\n",
    "        if query_type == \"css\":\n",
    "            if len(browser.find_elements_by_css_selector(value)) > 0:\n",
    "                return True\n",
    "            else:\n",
    "                return False\n",
    "        elif query_type == \"class\":\n",
    "            if len(browser.find_elements_by_class_name(value)) > 0:\n",
    "                return True\n",
    "            else:\n",
    "                return False\n",
    "        elif query_type == \"id\":\n",
    "            if len(browser.find_elements_by_id(value)) > 0:\n",
    "                return True\n",
    "            else:\n",
    "                return False\n",
    "        elif query_type == \"xpath\":\n",
    "            if len(browser.find_elements_by_xpath(value)) > 0:\n",
    "                return True\n",
    "            else:\n",
    "                return False\n",
    "        else:\n",
    "            return \"query type is error, only support css, class, id, xpath!!!\"\n",
    "    except:\n",
    "        return False"
   ]
  },
  {
   "cell_type": "code",
   "execution_count": 24,
   "metadata": {},
   "outputs": [],
   "source": [
    "def login():\n",
    "    \"\"\"登录\"\"\"\n",
    "    #点击登录按钮,跳转到登录界面\n",
    "    browser.find_element_by_css_selector(\".login-user\").click()\n",
    "    browser.implicitly_wait(10)\n",
    "    #进入登录的iframe，坑，竟然在一个大页面中有一个iframe\n",
    "    browser.switch_to_frame(\"alibaba-login-box\")\n",
    "    #输入用户名，需要替换成自己的用户名\n",
    "    browser.find_element_by_id(\"fm-login-id\").clear()\n",
    "    browser.find_element_by_id(\"fm-login-id\").send_keys(\"\")\n",
    "    #输入密码\n",
    "    browser.find_element_by_id(\"fm-login-password\").clear()\n",
    "    browser.find_element_by_id(\"fm-login-password\").send_keys(\"\")\n",
    "    #判断是否存在滑动解锁\n",
    "    if is_element_exist(\"class\", \"nc-lang-cnt\"):\n",
    "        #滑动验证码,获取平移距离,移动解锁\n",
    "        start=browser.find_element_by_id(\"nc_1_n1z\")\n",
    "        inner_size=start.size[\"width\"]\n",
    "        outer_size=browser.find_element_by_class_name(\"nc-lang-cnt\").size[\"width\"]\n",
    "        move_size=outer_size-inner_size\n",
    "        time.sleep(1)\n",
    "        ActionChains(browser).drag_and_drop_by_offset(start, move_size, 0).perform()\n",
    "\n",
    "    browser.find_element_by_css_selector(\".password-login\").click()"
   ]
  },
  {
   "cell_type": "code",
   "execution_count": 25,
   "metadata": {},
   "outputs": [
    {
     "name": "stderr",
     "output_type": "stream",
     "text": [
      "/Users/admin/Software/anaconda3/lib/python3.6/site-packages/ipykernel_launcher.py:7: DeprecationWarning: use driver.switch_to.frame instead\n",
      "  import sys\n"
     ]
    }
   ],
   "source": [
    "login()"
   ]
  },
  {
   "cell_type": "code",
   "execution_count": null,
   "metadata": {},
   "outputs": [],
   "source": []
  }
 ],
 "metadata": {
  "kernelspec": {
   "display_name": "Python 3",
   "language": "python",
   "name": "python3"
  },
  "language_info": {
   "codemirror_mode": {
    "name": "ipython",
    "version": 3
   },
   "file_extension": ".py",
   "mimetype": "text/x-python",
   "name": "python",
   "nbconvert_exporter": "python",
   "pygments_lexer": "ipython3",
   "version": "3.6.8"
  }
 },
 "nbformat": 4,
 "nbformat_minor": 2
}
