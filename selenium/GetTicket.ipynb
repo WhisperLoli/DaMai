{
 "cells": [
  {
   "cell_type": "code",
   "execution_count": 59,
   "metadata": {},
   "outputs": [],
   "source": [
    "from selenium import webdriver\n",
    "from selenium.webdriver.common.action_chains import ActionChains\n",
    "from selenium.webdriver import ChromeOptions\n",
    "import time\n",
    "import re\n",
    "import configparser\n",
    "import os\n",
    "import sys"
   ]
  },
  {
   "cell_type": "code",
   "execution_count": 60,
   "metadata": {},
   "outputs": [],
   "source": [
    "sys.setrecursionlimit(10000)\n",
    "cf = configparser.ConfigParser()\n",
    "path = os.path.abspath('./conf.properties')\n",
    "cf.read(path)\n",
    "username = cf.get('user', 'username')\n",
    "password = cf.get('user', 'password')\n",
    "price = cf.get(\"ticket\", \"price\")\n",
    "start_time = cf.get(\"ticket\", \"start_time\")\n",
    "total = cf.get(\"ticket\", \"total\")\n",
    "star = cf.get(\"ticket\", \"star\")\n",
    "address = cf.get(\"ticket\", \"address\")\n",
    "auto_upgrade=bool(cf.get(\"ticket\", \"auto_upgrade\"))"
   ]
  },
  {
   "cell_type": "code",
   "execution_count": 61,
   "metadata": {},
   "outputs": [
    {
     "data": {
      "text/plain": [
       "bool"
      ]
     },
     "execution_count": 61,
     "metadata": {},
     "output_type": "execute_result"
    }
   ],
   "source": [
    "type(bool(cf.get(\"ticket\", \"auto_upgrade\")))\n"
   ]
  },
  {
   "cell_type": "code",
   "execution_count": 62,
   "metadata": {},
   "outputs": [],
   "source": [
    "option = ChromeOptions()\n",
    "option.add_argument('user-agent=\"Mozilla/5.0 (Macintosh; Intel Mac OS X 10_14_4) AppleWebKit/537.36 (KHTML, like Gecko) Chrome/74.0.3729.169 Safari/537.36\"')\n",
    "option.add_experimental_option('excludeSwitches', ['enable-automation'])\n",
    "browser=webdriver.Chrome(executable_path=\"/Applications/Google Chrome.app/Contents/MacOS/chromedriver\", options=option)\n",
    "browser.get(\"https://www.damai.cn/?utm_source=search&utm_medium=baidupc&utm_content=pmarket_yhcpyyb&utm_campaign=alink_bdsem_shh_shouye_8000\")\n",
    "browser.maximize_window()"
   ]
  },
  {
   "cell_type": "code",
   "execution_count": 63,
   "metadata": {},
   "outputs": [],
   "source": [
    "def login():\n",
    "    \"\"\"登录\"\"\"\n",
    "    \"\"\"大麦会识别出非人工操作，从输入用户名密码开始到验证码结束人工操作\"\"\"\n",
    "    #点击登录按钮,跳转到登录界面\n",
    "    if browser.title==\"大麦网-全球演出赛事官方购票平台-100%正品、先付先抢、在线选座！\":\n",
    "        browser.find_element_by_css_selector(\".login-user\").click()\n",
    "        browser.implicitly_wait(10)\n",
    "        #进入登录的iframe，坑，竟然在一个大页面中有一个iframe\n",
    "        browser.switch_to_frame(\"alibaba-login-box\")\n",
    "    browser.find_element_by_id(\"fm-login-id\").clear()\n",
    "    #输入用户名，需要替换成自己的用户名\n",
    "    browser.find_element_by_id(\"fm-login-id\").send_keys(username)\n",
    "    browser.find_element_by_id(\"fm-login-password\").clear()\n",
    "    #输入密码\n",
    "    browser.find_element_by_id(\"fm-login-password\").send_keys(password)\n",
    "    browser.implicitly_wait(10)\n",
    "    #判断是否需要滑动解锁验证码\n",
    "    if browser.find_element_by_id(\"nocaptcha-password\").is_displayed():\n",
    "        #滑动验证码,获取平移距离,移动解锁\n",
    "        start=browser.find_element_by_id(\"nc_1_n1z\")\n",
    "        inner_size=start.size[\"width\"]\n",
    "        outer_size=browser.find_element_by_class_name(\"nc-lang-cnt\").size[\"width\"]\n",
    "        move_size=outer_size-inner_size\n",
    "        ActionChains(browser).drag_and_drop_by_offset(start, move_size, 0).perform()\n",
    "        time.sleep(2)#滑完了之后稍等下，让系统判断完毕\n",
    "\n",
    "    browser.find_element_by_css_selector(\".password-login\").click()"
   ]
  },
  {
   "cell_type": "code",
   "execution_count": 64,
   "metadata": {},
   "outputs": [
    {
     "name": "stderr",
     "output_type": "stream",
     "text": [
      "/Users/admin/Software/anaconda3/lib/python3.6/site-packages/ipykernel_launcher.py:9: DeprecationWarning: use driver.switch_to.frame instead\n",
      "  if __name__ == '__main__':\n"
     ]
    }
   ],
   "source": [
    "# perl -pi -e 's/cdc_/dog_/g' /Applications/chromedriver\n",
    "# 登录\n",
    "login()"
   ]
  },
  {
   "cell_type": "code",
   "execution_count": 65,
   "metadata": {},
   "outputs": [],
   "source": [
    "def search(performer, city=None):\n",
    "    \"\"\"登录后首页搜索，可以选择城市\"\"\"\n",
    "    if city != None:\n",
    "        current_location = browser.find_element_by_class_name(\"city-location\")\n",
    "        ActionChains(browser).move_to_element(current_location).perform()\n",
    "        cities = browser.find_elements_by_class_name(\"name-city\")\n",
    "        for city in cities:\n",
    "            if city.text == city:\n",
    "                city.click()\n",
    "                browser.implicitly_wait(20)\n",
    "                break \n",
    "    browser.find_element_by_class_name(\"input-search\").clear()\n",
    "    browser.find_element_by_class_name(\"input-search\").send_keys(performer)\n",
    "    browser.find_element_by_class_name(\"btn-search\").click()\n",
    "    browser.implicitly_wait(20)"
   ]
  },
  {
   "cell_type": "code",
   "execution_count": 66,
   "metadata": {},
   "outputs": [],
   "source": [
    "# 搜索\n",
    "search(star, address)"
   ]
  },
  {
   "cell_type": "code",
   "execution_count": 67,
   "metadata": {},
   "outputs": [],
   "source": [
    "def buy_detail(city):\n",
    "    \"\"\"进入购买详情页\"\"\"\n",
    "    browser.find_element_by_partial_link_text(city).click()\n",
    "    browser.implicitly_wait(20)"
   ]
  },
  {
   "cell_type": "code",
   "execution_count": 68,
   "metadata": {},
   "outputs": [],
   "source": [
    "# 跳转指定城市的购买界面\n",
    "buy_detail(address)"
   ]
  },
  {
   "cell_type": "code",
   "execution_count": 69,
   "metadata": {},
   "outputs": [],
   "source": [
    "# 切换窗口\n",
    "def switch_window():\n",
    "    for window in browser.window_handles:\n",
    "        if window != browser.current_window_handle:\n",
    "            buy_page_window = window\n",
    "            browser.switch_to_window(window)\n",
    "            break"
   ]
  },
  {
   "cell_type": "code",
   "execution_count": 70,
   "metadata": {},
   "outputs": [
    {
     "name": "stderr",
     "output_type": "stream",
     "text": [
      "/Users/admin/Software/anaconda3/lib/python3.6/site-packages/ipykernel_launcher.py:6: DeprecationWarning: use driver.switch_to.window instead\n",
      "  \n"
     ]
    }
   ],
   "source": [
    "switch_window()"
   ]
  },
  {
   "cell_type": "code",
   "execution_count": 101,
   "metadata": {},
   "outputs": [],
   "source": [
    "def buy_now(total):\n",
    "    \"\"\"total为购买票的数目\"\"\"\n",
    "    # 判断限购数量\n",
    "    try:\n",
    "        limit = re.search(\"\\d\",browser.find_element_by_class_name(\"number_right_limit\").text).group(0)\n",
    "        if int(total) > int(limit):\n",
    "            total=limit\n",
    "        browser.find_element_by_class_name(\"cafe-c-input-number-input\").clear()\n",
    "        browser.find_element_by_class_name(\"cafe-c-input-number-input\").send_keys(total)\n",
    "        browser.find_element_by_class_name(\"buybtn\").click()\n",
    "        browser.implicitly_wait(10)\n",
    "    except:\n",
    "        print(\"获取限购数量失败,直接使用输入票数【\"+str(total)+\"】\")\n",
    "        browser.find_element_by_class_name(\"cafe-c-input-number-input\").clear()\n",
    "        browser.find_element_by_class_name(\"cafe-c-input-number-input\").send_keys(int(total))\n",
    "        browser.find_element_by_class_name(\"buybtn\").click()\n",
    "        browser.implicitly_wait(10)"
   ]
  },
  {
   "cell_type": "code",
   "execution_count": 102,
   "metadata": {},
   "outputs": [],
   "source": [
    "def choose_time_and_price(price, start_time_sort_num):\n",
    "    \"\"\"选择价位与时间\"\"\"\n",
    "    \"\"\"start_time_sort_num时间顺序，页面上的排序，开始第一个数是1\"\"\"\n",
    "    \n",
    "    all_items = browser.find_elements_by_class_name(\"select_right_list_item\")\n",
    "    sorts=[]\n",
    "    price_levels=[]\n",
    "    for item in all_items:\n",
    "        if item.get_attribute(\"class\").find(\"sku_item\") == -1:\n",
    "            sorts.append(item)\n",
    "        else:\n",
    "            price_levels.append(item)\n",
    "         \n",
    "    # 选择时间\n",
    "    #print(\"当前时间场次总共有【\"+str(len(sorts))+\"】档\")\n",
    "    if len(sorts) < int(start_time_sort_num):\n",
    "        print(\"输入抢票日期信息错误,将被设置成第一场演唱会的票\")\n",
    "        start_time_sort_num = 1 \n",
    "    sorts[int(start_time_sort_num)-1].click()\n",
    "                \n",
    "    # 选择价位\n",
    "    #print(\"当前价位总共有【\"+str(len(price_levels))+\"】档\")\n",
    "    if len(price_levels) < int(price):\n",
    "        print(\"输入价位信息错误，超过系统的价位档,将被设置成最低档价位的票\")\n",
    "        price = 1 \n",
    "    price_levels[int(price)-1].click()\n",
    "    \n",
    "    #返回是否可以购买\n",
    "    return browser.find_element_by_class_name(\"buybtn\").text"
   ]
  },
  {
   "cell_type": "code",
   "execution_count": 105,
   "metadata": {},
   "outputs": [
    {
     "name": "stdout",
     "output_type": "stream",
     "text": [
      "CPU times: user 3 µs, sys: 1e+03 ns, total: 4 µs\n",
      "Wall time: 4.77 µs\n"
     ]
    }
   ],
   "source": [
    "def refresh_and_buy(price, total, start_time_sort_num):\n",
    "    \"\"\"判断是否开售，未开售就刷新浏览器\"\"\"\n",
    "    \"\"\"price：价格档位\"\"\"\n",
    "    \"\"\"total：选择抢票数目\"\"\"\n",
    "    # 是否可以购票\n",
    "    \n",
    "    txt = choose_time_and_price(price, start_time_sort_num)\n",
    "    while txt==\"即将开抢\":\n",
    "        browser.refresh()\n",
    "        txt = choose_time_and_price(price, start_time_sort_num)\n",
    "    if txt == \"提交缺货登记\":\n",
    "        print(\"该档次票已被抢完\")\n",
    "        if auto_upgrade:\n",
    "            print(\"自动提升票价档次\")\n",
    "            price = str(int(price) + 1)\n",
    "            refresh_and_buy(price, total, start_time_sort_num)\n",
    "        #如果启用自动升档门票价格的话，抢到票后也需要退出当前程序片段\n",
    "        sys.exit(0)\n",
    "    buy_now(total)\n",
    "    \n",
    "    # 点击立即购买出错跳到页面，需要添加判断http://err.taobao.com/error2.html\n",
    "    while browser.current_url == \"http://err.taobao.com/error2.html\":\n",
    "        browser.back()\n",
    "        refresh_and_buy(price, total, start_time_sort_num)"
   ]
  },
  {
   "cell_type": "code",
   "execution_count": 104,
   "metadata": {},
   "outputs": [
    {
     "name": "stdout",
     "output_type": "stream",
     "text": [
      "CPU times: user 2 µs, sys: 1 µs, total: 3 µs\n",
      "Wall time: 5.96 µs\n",
      "该档次票已被抢完\n",
      "自动提升票价档次\n"
     ]
    },
    {
     "ename": "SystemExit",
     "evalue": "0",
     "output_type": "error",
     "traceback": [
      "An exception has occurred, use %tb to see the full traceback.\n",
      "\u001b[0;31mSystemExit\u001b[0m\u001b[0;31m:\u001b[0m 0\n"
     ]
    }
   ],
   "source": [
    "# 刷新及购买\n",
    "%time\n",
    "refresh_and_buy(price=price,total=total,start_time_sort_num=start_time)"
   ]
  },
  {
   "cell_type": "code",
   "execution_count": 87,
   "metadata": {},
   "outputs": [],
   "source": [
    "def submit_order(total):\n",
    "    \"\"\"提交订单\"\"\"\n",
    "    \"\"\"判断是否有限制一个身份证只能买一张票\"\"\"\n",
    "    if browser.find_element_by_class_name(\"ticket-buyer-title\").text.find(\"1\") > 0:\n",
    "        #没有该限制\n",
    "        browser.find_element_by_class_name(\"next-checkbox-label\").click()\n",
    "    else:\n",
    "        #选择多位观看人\n",
    "        for user in browser.find_elements_by_class_name(\"next-checkbox-label\")[0:int(total)]:\n",
    "            user.click()\n",
    "      \n",
    "    browser.find_elements_by_class_name(\"next-btn-medium\")[2].click()\n",
    "    \n",
    "    "
   ]
  },
  {
   "cell_type": "code",
   "execution_count": 88,
   "metadata": {},
   "outputs": [],
   "source": [
    "# 提交订单\n",
    "submit_order(total)"
   ]
  },
  {
   "cell_type": "code",
   "execution_count": null,
   "metadata": {},
   "outputs": [],
   "source": []
  }
 ],
 "metadata": {
  "kernelspec": {
   "display_name": "Python 3",
   "language": "python",
   "name": "python3"
  },
  "language_info": {
   "codemirror_mode": {
    "name": "ipython",
    "version": 3
   },
   "file_extension": ".py",
   "mimetype": "text/x-python",
   "name": "python",
   "nbconvert_exporter": "python",
   "pygments_lexer": "ipython3",
   "version": "3.6.8"
  }
 },
 "nbformat": 4,
 "nbformat_minor": 2
}
