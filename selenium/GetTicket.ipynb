{
 "cells": [
  {
   "cell_type": "code",
   "execution_count": 95,
   "metadata": {},
   "outputs": [],
   "source": [
    "from selenium import webdriver\n",
    "from selenium.webdriver.common.action_chains import ActionChains\n",
    "from selenium.webdriver import ChromeOptions\n",
    "import time\n",
    "import re"
   ]
  },
  {
   "cell_type": "code",
   "execution_count": 88,
   "metadata": {},
   "outputs": [],
   "source": [
    "option = ChromeOptions()\n",
    "option.add_argument('user-agent=\"Mozilla/5.0 (Macintosh; Intel Mac OS X 10_14_4) AppleWebKit/537.36 (KHTML, like Gecko) Chrome/74.0.3729.169 Safari/537.36\"')\n",
    "option.add_experimental_option('excludeSwitches', ['enable-automation'])\n",
    "browser=webdriver.Chrome(executable_path=\"/Applications/Google Chrome.app/Contents/MacOS/chromedriver\", options=option)"
   ]
  },
  {
   "cell_type": "code",
   "execution_count": 89,
   "metadata": {},
   "outputs": [],
   "source": [
    "browser.get(\"https://www.damai.cn/?utm_source=search&utm_medium=baidupc&utm_content=pmarket_yhcpyyb&utm_campaign=alink_bdsem_shh_shouye_8000\")"
   ]
  },
  {
   "cell_type": "code",
   "execution_count": 90,
   "metadata": {},
   "outputs": [],
   "source": [
    "def is_element_exist(query_type, value):\n",
    "    \"\"\"根据查询类型判断页面中是否存在相应的元素\"\"\"\n",
    "    try:\n",
    "        if query_type == \"css\":\n",
    "            if len(browser.find_elements_by_css_selector(value)) > 0:\n",
    "                return True\n",
    "            else:\n",
    "                return False\n",
    "        elif query_type == \"class\":\n",
    "            if len(browser.find_elements_by_class_name(value)) > 0:\n",
    "                return True\n",
    "            else:\n",
    "                return False\n",
    "        elif query_type == \"id\":\n",
    "            if len(browser.find_elements_by_id(value)) > 0:\n",
    "                return True\n",
    "            else:\n",
    "                return False\n",
    "        elif query_type == \"xpath\":\n",
    "            if len(browser.find_elements_by_xpath(value)) > 0:\n",
    "                return True\n",
    "            else:\n",
    "                return False\n",
    "        else:\n",
    "            return \"query type is error, only support css, class, id, xpath!!!\"\n",
    "    except:\n",
    "        return False"
   ]
  },
  {
   "cell_type": "code",
   "execution_count": 91,
   "metadata": {},
   "outputs": [],
   "source": [
    "def login():\n",
    "    \"\"\"登录\"\"\"\n",
    "    \"\"\"大麦会识别出非人工操作，从输入用户名密码开始到验证码结束人工操作\"\"\"\n",
    "    #点击登录按钮,跳转到登录界面\n",
    "    if browser.title==\"大麦网-全球演出赛事官方购票平台-100%正品、先付先抢、在线选座！\":\n",
    "        browser.find_element_by_css_selector(\".login-user\").click()\n",
    "        browser.implicitly_wait(10)\n",
    "        #进入登录的iframe，坑，竟然在一个大页面中有一个iframe\n",
    "        browser.switch_to_frame(\"alibaba-login-box\")\n",
    "    browser.find_element_by_id(\"fm-login-id\").clear()\n",
    "    #输入用户名，需要替换成自己的用户名\n",
    "    browser.find_element_by_id(\"fm-login-id\").send_keys(\"\")\n",
    "    browser.find_element_by_id(\"fm-login-password\").clear()\n",
    "    #输入密码\n",
    "    browser.find_element_by_id(\"fm-login-password\").send_keys(\"\")\n",
    "    #判断是否存在滑动解锁\n",
    "    if is_element_exist(\"class\", \"nc-lang-cnt\"):\n",
    "        #滑动验证码,获取平移距离,移动解锁\n",
    "        start=browser.find_element_by_id(\"nc_1_n1z\")\n",
    "        inner_size=start.size[\"width\"]\n",
    "        outer_size=browser.find_element_by_class_name(\"nc-lang-cnt\").size[\"width\"]\n",
    "        move_size=outer_size-inner_size\n",
    "        time.sleep(1)\n",
    "        ActionChains(browser).drag_and_drop_by_offset(start, move_size, 0).perform()\n",
    "        time.sleep(1)#滑完了之后稍等下，让系统判断完毕\n",
    "\n",
    "    browser.find_element_by_css_selector(\".password-login\").click()"
   ]
  },
  {
   "cell_type": "code",
   "execution_count": 92,
   "metadata": {},
   "outputs": [
    {
     "name": "stderr",
     "output_type": "stream",
     "text": [
      "/Users/admin/Software/anaconda3/lib/python3.6/site-packages/ipykernel_launcher.py:9: DeprecationWarning: use driver.switch_to.frame instead\n",
      "  if __name__ == '__main__':\n"
     ]
    }
   ],
   "source": [
    "login()"
   ]
  },
  {
   "cell_type": "code",
   "execution_count": null,
   "metadata": {},
   "outputs": [],
   "source": [
    "def search(performer, city=None):\n",
    "    \"\"\"搜索\"\"\"\n",
    "    if city != None:\n",
    "        browser.find_element_by_link_text(city).click()\n",
    "        browser.implicitly_wait(20)\n",
    "    browser.find_element_by_class_name(\"input-search\").send_keys(performer)\n",
    "    browser.find_element_by_class_name(\"btn-search\").click()\n",
    "    browser.implicitly_wait(20)"
   ]
  },
  {
   "cell_type": "code",
   "execution_count": 94,
   "metadata": {},
   "outputs": [
    {
     "name": "stdout",
     "output_type": "stream",
     "text": [
      "ActionChains\t ChromeOptions\t browser\t inner_size\t is_element_exist\t login\t move_size\t option\t outer_size\t \n",
      "start\t time\t webdriver\t \n"
     ]
    }
   ],
   "source": [
    "def bug_detail(city):\n",
    "    \"\"\"进入购买详情页\"\"\"\n",
    "    browser.find_element_by_partial_link_text(city).click()\n",
    "    browser.implicitly_wait(20)"
   ]
  },
  {
   "cell_type": "code",
   "execution_count": null,
   "metadata": {},
   "outputs": [],
   "source": [
    "def buy_now(price, total, start_time):\n",
    "    \"\"\"\n",
    "    当时间到达售票时间时，刷新页面，开始买票\n",
    "    price为购买价格，total为购买票的数目，start_time为开票时间\n",
    "    \"\"\"\n",
    "    browser.find_element_by_link_text(str(price) + \"元\").click()\n",
    "    limit = re.search(\"\\d\",browser.find_element_by_class_name(\"number_right_limit\").text).group(0)\n",
    "    if total > limit:\n",
    "        total=limit\n",
    "    browser.find_element_by_class_name(\"cafe-c-input-number-input\").send_keys(total)\n",
    "    browser.find_element_by_class_name(\"buybtn\").click()\n",
    "    browser.implicitly_wait(10)"
   ]
  },
  {
   "cell_type": "code",
   "execution_count": null,
   "metadata": {},
   "outputs": [],
   "source": [
    "def submit_order():\n",
    "    \"\"\"提交订单\"\"\"\n",
    "    browser.find_element_by_class_name(\"next-checkbox-label\").click()\n",
    "    browser.find_elements_by_class_name(\"next-btn-medium\")[2].click()\n",
    "    \n",
    "    # send email"
   ]
  }
 ],
 "metadata": {
  "kernelspec": {
   "display_name": "Python 3",
   "language": "python",
   "name": "python3"
  },
  "language_info": {
   "codemirror_mode": {
    "name": "ipython",
    "version": 3
   },
   "file_extension": ".py",
   "mimetype": "text/x-python",
   "name": "python",
   "nbconvert_exporter": "python",
   "pygments_lexer": "ipython3",
   "version": "3.6.8"
  }
 },
 "nbformat": 4,
 "nbformat_minor": 2
}
